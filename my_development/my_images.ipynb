{
 "cells": [
  {
   "cell_type": "markdown",
   "metadata": {},
   "source": [
    "## Using the OIRDS dataset"
   ]
  },
  {
   "cell_type": "code",
   "execution_count": 1,
   "metadata": {},
   "outputs": [],
   "source": [
    "# When using the notebook in my own environment\n",
    "import os\n",
    "\n",
    "# Root directory of the project\n",
    "ROOT_DIR = os.path.abspath(\"../\")\n",
    "ONE_UP_DIR = os.path.abspath(os.path.join(os.path.dirname(\"../\"), '..'))\n",
    "\n",
    "# User selectable variable\n",
    "selected_number = 1\n",
    "DATASET_PATH = ONE_UP_DIR + '\\\\OIRDS\\\\DataSet_' + str(selected_number)"
   ]
  },
  {
   "cell_type": "code",
   "execution_count": 2,
   "metadata": {},
   "outputs": [],
   "source": [
    "# Main variables\n",
    "i_row = 5\n",
    "img_size = (256, 256, 3)"
   ]
  },
  {
   "cell_type": "code",
   "execution_count": 3,
   "metadata": {},
   "outputs": [
    {
     "name": "stderr",
     "output_type": "stream",
     "text": [
      "C:\\ProgramData\\Anaconda3\\envs\\tensorflow\\lib\\site-packages\\h5py\\__init__.py:36: FutureWarning: Conversion of the second argument of issubdtype from `float` to `np.floating` is deprecated. In future, it will be treated as `np.float64 == np.dtype(float).type`.\n",
      "  from ._conv import register_converters as _register_converters\n",
      "Using TensorFlow backend.\n"
     ]
    }
   ],
   "source": [
    "# Imports\n",
    "import numpy as np\n",
    "import pandas as pd\n",
    "import cv2\n",
    "\n",
    "from PIL import Image\n",
    "\n",
    "from keras.models import Sequential, model_from_json\n",
    "from keras.layers.convolutional import Conv2D, MaxPooling2D\n",
    "from keras.layers.core import Flatten, Dense, Dropout, Activation"
   ]
  },
  {
   "cell_type": "code",
   "execution_count": 4,
   "metadata": {},
   "outputs": [
    {
     "data": {
      "text/plain": [
       "Index(['Probability of Target', 'Image Path', 'Image Name', 'Target Number',\n",
       "       'Average POT', 'StDev POT', 'Var POT', 'Intersection Polygon',\n",
       "       'Average Target Centroid', 'Mode of Target Type', 'VarRatio TT',\n",
       "       'Mode of Target Color', 'VarRatio TC', 'Mode of Target Specularity',\n",
       "       'VarRatio Specularity', 'Average Target Orientation', 'StdDev TO',\n",
       "       'Var TO', 'Mode of Target Camouflaged', 'VarRatio Target Camouflaged',\n",
       "       'Mode of Target Casts Shadow', 'VarRatio Target Casts Shadow',\n",
       "       'Average Target Contrast', 'StdDev Target Contrast',\n",
       "       'Var Target Contrast', 'Average Target Occlusion %',\n",
       "       'StdDev Target Occlusion %', 'Var Target Occlusion %',\n",
       "       'Average Target Shadow %', 'StdDev Target Shadow %',\n",
       "       'Var Target Shadow %', 'Average Distance from nearest edge',\n",
       "       'StdDev Distance', 'Var Distance', 'Entropy of Target v. Background',\n",
       "       'Target Standard Deviation', 'Mode of Land Cover',\n",
       "       'VarRatio Land Cover', 'Average Cloud Cover %', 'StdDev Cloud Cover',\n",
       "       'Var Cloud Cover', 'Mode of Has Confusers', 'VarRatio Has Confusers',\n",
       "       'Average Number of Targets in Image', 'StdDev Targets in Image',\n",
       "       'Var Targets in Image', 'Mode of Image Size', ' Average GSD',\n",
       "       'Mode of Has Metadata', 'Mode of Is Orthorectified',\n",
       "       'Mode of Compression', 'Average Image Noise', 'StdDev Noise',\n",
       "       'Var Nosie', 'Average Image Clear Edges', 'StdDev Clear Edges',\n",
       "       'Var Clear Edges', 'Average Image NIIRS', 'StdDev NIIRS', 'Var NIIRS',\n",
       "       'Mode of Date', 'Mode of Time of Day', 'Average Clutter',\n",
       "       'StdDev Clutter', 'Var Clutter', 'Average Normal Target Orientation',\n",
       "       'StdDev NTO', 'Var NTO'],\n",
       "      dtype='object')"
      ]
     },
     "execution_count": 4,
     "metadata": {},
     "output_type": "execute_result"
    }
   ],
   "source": [
    "# Reading the information on the excel file\n",
    "FILE_PATH = DATASET_PATH + '\\\\DataSet' + str(selected_number) + '.xls'\n",
    "sheet =  'Stats'\n",
    "\n",
    "df = pd.read_excel(io = FILE_PATH, sheet_name = sheet)\n",
    "columns = df.columns\n",
    "columns"
   ]
  },
  {
   "cell_type": "code",
   "execution_count": 5,
   "metadata": {},
   "outputs": [],
   "source": [
    "# Image example\n",
    "im_id = df['Image Name'][i_row] # we get the image name\n",
    "im = Image.open(DATASET_PATH + '\\\\' + im_id) # we save the image as a matrix\n",
    "im.show()\n",
    "imarray = np.array(im)\n",
    "imarray = cv2.resize(imarray, img_size[0:2], interpolation = cv2.INTER_AREA) # force all images to be of the same size\n",
    "imshape = imarray.shape\n",
    "imsize = im.size\n",
    "\n",
    "# Information on the image\n",
    "targets = df[df['Image Name'] == im_id] # we get the targets of the image\n",
    "n_cars = targets.shape[0] # number of rows would be the number of cars"
   ]
  },
  {
   "cell_type": "code",
   "execution_count": 6,
   "metadata": {},
   "outputs": [
    {
     "data": {
      "text/plain": [
       "3"
      ]
     },
     "execution_count": 6,
     "metadata": {},
     "output_type": "execute_result"
    }
   ],
   "source": [
    "n_cars"
   ]
  },
  {
   "cell_type": "code",
   "execution_count": 7,
   "metadata": {},
   "outputs": [
    {
     "data": {
      "text/plain": [
       "(256, 256, 3)"
      ]
     },
     "execution_count": 7,
     "metadata": {},
     "output_type": "execute_result"
    }
   ],
   "source": [
    "imshape"
   ]
  },
  {
   "cell_type": "code",
   "execution_count": null,
   "metadata": {},
   "outputs": [],
   "source": []
  }
 ],
 "metadata": {
  "kernelspec": {
   "display_name": "Python 3",
   "language": "python",
   "name": "python3"
  },
  "language_info": {
   "codemirror_mode": {
    "name": "ipython",
    "version": 3
   },
   "file_extension": ".py",
   "mimetype": "text/x-python",
   "name": "python",
   "nbconvert_exporter": "python",
   "pygments_lexer": "ipython3",
   "version": "3.5.5"
  }
 },
 "nbformat": 4,
 "nbformat_minor": 2
}
